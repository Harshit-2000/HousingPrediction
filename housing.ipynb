{
 "cells": [
  {
   "cell_type": "code",
   "execution_count": 1,
   "id": "original-segment",
   "metadata": {
    "_cell_guid": "b1076dfc-b9ad-4769-8c92-a6c4dae69d19",
    "_uuid": "8f2839f25d086af736a60e9eeb907d3b93b6e0e5",
    "execution": {
     "iopub.execute_input": "2021-05-24T11:34:33.256370Z",
     "iopub.status.busy": "2021-05-24T11:34:33.255625Z",
     "iopub.status.idle": "2021-05-24T11:34:34.161704Z",
     "shell.execute_reply": "2021-05-24T11:34:34.160753Z",
     "shell.execute_reply.started": "2021-05-24T11:13:11.572669Z"
    },
    "papermill": {
     "duration": 0.932798,
     "end_time": "2021-05-24T11:34:34.161942",
     "exception": false,
     "start_time": "2021-05-24T11:34:33.229144",
     "status": "completed"
    },
    "tags": []
   },
   "outputs": [
    {
     "name": "stdout",
     "output_type": "stream",
     "text": [
      "/kaggle/input/house-prices-advanced-regression-techniques/sample_submission.csv\n",
      "/kaggle/input/house-prices-advanced-regression-techniques/data_description.txt\n",
      "/kaggle/input/house-prices-advanced-regression-techniques/train.csv\n",
      "/kaggle/input/house-prices-advanced-regression-techniques/test.csv\n"
     ]
    }
   ],
   "source": [
    "import numpy as np # linear algebra\n",
    "import pandas as pd # data processing, CSV file I/O (e.g. pd.read_csv)\n",
    "import matplotlib.pyplot as plt\n",
    "import seaborn as sns\n",
    "\n",
    "import os\n",
    "for dirname, _, filenames in os.walk('/kaggle/input'):\n",
    "    for filename in filenames:\n",
    "        print(os.path.join(dirname, filename))"
   ]
  },
  {
   "cell_type": "code",
   "execution_count": 2,
   "id": "strange-baltimore",
   "metadata": {
    "execution": {
     "iopub.execute_input": "2021-05-24T11:34:34.195818Z",
     "iopub.status.busy": "2021-05-24T11:34:34.194761Z",
     "iopub.status.idle": "2021-05-24T11:34:34.277574Z",
     "shell.execute_reply": "2021-05-24T11:34:34.278244Z",
     "shell.execute_reply.started": "2021-05-24T11:13:11.583539Z"
    },
    "papermill": {
     "duration": 0.10202,
     "end_time": "2021-05-24T11:34:34.278462",
     "exception": false,
     "start_time": "2021-05-24T11:34:34.176442",
     "status": "completed"
    },
    "tags": []
   },
   "outputs": [
    {
     "name": "stdout",
     "output_type": "stream",
     "text": [
      "(1459, 80)\n",
      "(1460, 81)\n"
     ]
    }
   ],
   "source": [
    "df_train = pd.read_csv(\"../input/house-prices-advanced-regression-techniques/train.csv\")\n",
    "df_test = pd.read_csv(\"/kaggle/input/house-prices-advanced-regression-techniques/test.csv\")\n",
    "print(df_test.shape)\n",
    "print(df_train.shape)"
   ]
  },
  {
   "cell_type": "code",
   "execution_count": 3,
   "id": "immune-repeat",
   "metadata": {
    "execution": {
     "iopub.execute_input": "2021-05-24T11:34:34.319395Z",
     "iopub.status.busy": "2021-05-24T11:34:34.318709Z",
     "iopub.status.idle": "2021-05-24T11:34:34.342753Z",
     "shell.execute_reply": "2021-05-24T11:34:34.343308Z",
     "shell.execute_reply.started": "2021-05-24T11:13:11.666856Z"
    },
    "papermill": {
     "duration": 0.050117,
     "end_time": "2021-05-24T11:34:34.343483",
     "exception": false,
     "start_time": "2021-05-24T11:34:34.293366",
     "status": "completed"
    },
    "tags": []
   },
   "outputs": [
    {
     "data": {
      "text/plain": [
       "(2919, 81)"
      ]
     },
     "execution_count": 3,
     "metadata": {},
     "output_type": "execute_result"
    }
   ],
   "source": [
    "df = pd.concat([df_train, df_test])\n",
    "df.shape"
   ]
  },
  {
   "cell_type": "markdown",
   "id": "hollywood-genre",
   "metadata": {
    "papermill": {
     "duration": 0.014146,
     "end_time": "2021-05-24T11:34:34.371770",
     "exception": false,
     "start_time": "2021-05-24T11:34:34.357624",
     "status": "completed"
    },
    "tags": []
   },
   "source": [
    "## Dealing with null Values"
   ]
  },
  {
   "cell_type": "code",
   "execution_count": 4,
   "id": "indirect-fever",
   "metadata": {
    "execution": {
     "iopub.execute_input": "2021-05-24T11:34:34.403273Z",
     "iopub.status.busy": "2021-05-24T11:34:34.402575Z",
     "iopub.status.idle": "2021-05-24T11:34:34.433781Z",
     "shell.execute_reply": "2021-05-24T11:34:34.434306Z",
     "shell.execute_reply.started": "2021-05-24T11:13:11.690842Z"
    },
    "papermill": {
     "duration": 0.048596,
     "end_time": "2021-05-24T11:34:34.434492",
     "exception": false,
     "start_time": "2021-05-24T11:34:34.385896",
     "status": "completed"
    },
    "tags": []
   },
   "outputs": [
    {
     "name": "stdout",
     "output_type": "stream",
     "text": [
      "Dropped Columns : dict_keys(['Alley', 'FireplaceQu', 'PoolQC', 'Fence', 'MiscFeature', 'SalePrice'])\n"
     ]
    }
   ],
   "source": [
    "null_count = df.isna().sum().to_dict()\n",
    "\n",
    "for i in list(null_count):\n",
    "     if null_count[i] <= 500:\n",
    "        null_count.pop(i)\n",
    "\n",
    "# dropping columns that have more than 500 null values\n",
    "\n",
    "df.drop(null_count.keys(), axis = 1, inplace = True)\n",
    "print(f\"Dropped Columns : {null_count.keys()}\")"
   ]
  },
  {
   "cell_type": "code",
   "execution_count": 5,
   "id": "ranking-portal",
   "metadata": {
    "execution": {
     "iopub.execute_input": "2021-05-24T11:34:34.466983Z",
     "iopub.status.busy": "2021-05-24T11:34:34.466359Z",
     "iopub.status.idle": "2021-05-24T11:34:34.480328Z",
     "shell.execute_reply": "2021-05-24T11:34:34.480869Z"
    },
    "papermill": {
     "duration": 0.031824,
     "end_time": "2021-05-24T11:34:34.481059",
     "exception": false,
     "start_time": "2021-05-24T11:34:34.449235",
     "status": "completed"
    },
    "tags": []
   },
   "outputs": [
    {
     "name": "stdout",
     "output_type": "stream",
     "text": [
      "{int64: ['Id', 'MSSubClass', 'LotArea', 'OverallQual', 'OverallCond', 'YearBuilt', 'YearRemodAdd', '1stFlrSF', '2ndFlrSF', 'LowQualFinSF', 'GrLivArea', 'FullBath', 'HalfBath', 'BedroomAbvGr', 'KitchenAbvGr', 'TotRmsAbvGrd', 'Fireplaces', 'WoodDeckSF', 'OpenPorchSF', 'EnclosedPorch', '3SsnPorch', 'ScreenPorch', 'PoolArea', 'MiscVal', 'MoSold', 'YrSold'], float64: ['LotFrontage', 'MasVnrArea', 'BsmtFinSF1', 'BsmtFinSF2', 'BsmtUnfSF', 'TotalBsmtSF', 'BsmtFullBath', 'BsmtHalfBath', 'GarageYrBlt', 'GarageCars', 'GarageArea'], object: ['MSZoning', 'Street', 'LotShape', 'LandContour', 'Utilities', 'LotConfig', 'LandSlope', 'Neighborhood', 'Condition1', 'Condition2', 'BldgType', 'HouseStyle', 'RoofStyle', 'RoofMatl', 'Exterior1st', 'Exterior2nd', 'MasVnrType', 'ExterQual', 'ExterCond', 'Foundation', 'BsmtQual', 'BsmtCond', 'BsmtExposure', 'BsmtFinType1', 'BsmtFinType2', 'Heating', 'HeatingQC', 'CentralAir', 'Electrical', 'KitchenQual', 'Functional', 'GarageType', 'GarageFinish', 'GarageQual', 'GarageCond', 'PavedDrive', 'SaleType', 'SaleCondition']}\n"
     ]
    }
   ],
   "source": [
    "g = df.columns.to_series().groupby(df.dtypes).groups\n",
    "print(g)"
   ]
  },
  {
   "cell_type": "code",
   "execution_count": 6,
   "id": "exceptional-jones",
   "metadata": {
    "execution": {
     "iopub.execute_input": "2021-05-24T11:34:34.516636Z",
     "iopub.status.busy": "2021-05-24T11:34:34.515615Z",
     "iopub.status.idle": "2021-05-24T11:34:34.605632Z",
     "shell.execute_reply": "2021-05-24T11:34:34.604808Z",
     "shell.execute_reply.started": "2021-05-24T11:13:11.777955Z"
    },
    "papermill": {
     "duration": 0.108997,
     "end_time": "2021-05-24T11:34:34.605785",
     "exception": false,
     "start_time": "2021-05-24T11:34:34.496788",
     "status": "completed"
    },
    "tags": []
   },
   "outputs": [],
   "source": [
    "# filling null object value by mode\n",
    "\n",
    "object_feature = ['MSZoning', 'Street', 'LotShape', 'LandContour', 'Utilities', 'LotConfig', 'LandSlope', 'Neighborhood', 'Condition1', 'Condition2', 'BldgType', 'HouseStyle', 'RoofStyle', 'RoofMatl', 'Exterior1st', 'Exterior2nd', 'MasVnrType', 'ExterQual', 'ExterCond', 'Foundation', 'BsmtQual', 'BsmtCond', 'BsmtExposure', 'BsmtFinType1', 'BsmtFinType2', 'Heating', 'HeatingQC', 'CentralAir', 'Electrical', 'KitchenQual', 'Functional', 'GarageType', 'GarageFinish', 'GarageQual', 'GarageCond', 'PavedDrive', 'SaleType', 'SaleCondition']\n",
    "for feature in object_feature:\n",
    "    df[feature].fillna(df[feature].mode(), inplace = True)\n",
    "\n",
    "# filling null numerical values using mean\n",
    "num_feature = ['Id', 'MSSubClass', 'LotArea', 'OverallQual', 'OverallCond', 'YearBuilt', 'YearRemodAdd', 'BsmtFinSF1', 'BsmtFinSF2', 'BsmtUnfSF', 'TotalBsmtSF', '1stFlrSF', '2ndFlrSF', 'LowQualFinSF', 'GrLivArea', 'BsmtFullBath', 'BsmtHalfBath', 'FullBath', 'HalfBath', 'BedroomAbvGr', 'KitchenAbvGr', 'TotRmsAbvGrd', 'Fireplaces', 'GarageCars', 'GarageArea', 'WoodDeckSF', 'OpenPorchSF', 'EnclosedPorch', '3SsnPorch', 'ScreenPorch', 'PoolArea', 'MiscVal', 'MoSold', 'YrSold','LotFrontage', 'MasVnrArea', 'GarageYrBlt']\n",
    "for feature in num_feature:\n",
    "    df[feature].fillna(df[feature].mean(), inplace = True)"
   ]
  },
  {
   "cell_type": "code",
   "execution_count": 7,
   "id": "common-customs",
   "metadata": {
    "execution": {
     "iopub.execute_input": "2021-05-24T11:34:34.653847Z",
     "iopub.status.busy": "2021-05-24T11:34:34.652849Z",
     "iopub.status.idle": "2021-05-24T11:34:34.661822Z",
     "shell.execute_reply": "2021-05-24T11:34:34.662474Z",
     "shell.execute_reply.started": "2021-05-24T11:13:11.866646Z"
    },
    "papermill": {
     "duration": 0.035272,
     "end_time": "2021-05-24T11:34:34.662690",
     "exception": false,
     "start_time": "2021-05-24T11:34:34.627418",
     "status": "completed"
    },
    "tags": []
   },
   "outputs": [],
   "source": [
    "df.drop(\"Id\", axis = 1, inplace = True)"
   ]
  },
  {
   "cell_type": "markdown",
   "id": "sustained-following",
   "metadata": {
    "papermill": {
     "duration": 0.017466,
     "end_time": "2021-05-24T11:34:34.702774",
     "exception": false,
     "start_time": "2021-05-24T11:34:34.685308",
     "status": "completed"
    },
    "tags": []
   },
   "source": [
    "## Converting Categorical feature into dummy variable"
   ]
  },
  {
   "cell_type": "code",
   "execution_count": 8,
   "id": "metallic-foundation",
   "metadata": {
    "execution": {
     "iopub.execute_input": "2021-05-24T11:34:34.747901Z",
     "iopub.status.busy": "2021-05-24T11:34:34.747244Z",
     "iopub.status.idle": "2021-05-24T11:34:34.803382Z",
     "shell.execute_reply": "2021-05-24T11:34:34.803905Z",
     "shell.execute_reply.started": "2021-05-24T11:14:11.961034Z"
    },
    "papermill": {
     "duration": 0.084108,
     "end_time": "2021-05-24T11:34:34.804093",
     "exception": false,
     "start_time": "2021-05-24T11:34:34.719985",
     "status": "completed"
    },
    "tags": []
   },
   "outputs": [
    {
     "data": {
      "text/plain": [
       "(2919, 232)"
      ]
     },
     "execution_count": 8,
     "metadata": {},
     "output_type": "execute_result"
    }
   ],
   "source": [
    "# convert category feature into dummy\n",
    "object_feature = ['MSZoning', 'Street', 'LotShape', 'LandContour', 'Utilities', 'LotConfig', 'LandSlope', 'Neighborhood', 'Condition1', 'Condition2', 'BldgType', 'HouseStyle', 'RoofStyle', 'RoofMatl', 'Exterior1st', 'Exterior2nd', 'MasVnrType', 'ExterQual', 'ExterCond', 'Foundation', 'BsmtQual', 'BsmtCond', 'BsmtExposure', 'BsmtFinType1', 'BsmtFinType2', 'Heating', 'HeatingQC', 'CentralAir', 'Electrical', 'KitchenQual', 'Functional', 'GarageType', 'GarageFinish', 'GarageQual', 'GarageCond', 'PavedDrive', 'SaleType', 'SaleCondition']\n",
    "\n",
    "df = pd.get_dummies(df, columns = object_feature, drop_first=True)\n",
    "df.shape"
   ]
  },
  {
   "cell_type": "code",
   "execution_count": 9,
   "id": "ignored-consumer",
   "metadata": {
    "execution": {
     "iopub.execute_input": "2021-05-24T11:34:34.840287Z",
     "iopub.status.busy": "2021-05-24T11:34:34.839630Z",
     "iopub.status.idle": "2021-05-24T11:34:34.847193Z",
     "shell.execute_reply": "2021-05-24T11:34:34.848048Z",
     "shell.execute_reply.started": "2021-05-24T11:14:18.414096Z"
    },
    "papermill": {
     "duration": 0.027491,
     "end_time": "2021-05-24T11:34:34.848292",
     "exception": false,
     "start_time": "2021-05-24T11:34:34.820801",
     "status": "completed"
    },
    "tags": []
   },
   "outputs": [
    {
     "name": "stdout",
     "output_type": "stream",
     "text": [
      "(1460, 232)\n",
      "(1459, 232)\n",
      "(1460,)\n"
     ]
    }
   ],
   "source": [
    "X_train = df[:1460]\n",
    "X_test = df_train[\"SalePrice\"]\n",
    "y_train = df[1460:]\n",
    "\n",
    "print(X_train.shape)\n",
    "print(y_train.shape)\n",
    "print(X_test.shape)"
   ]
  },
  {
   "cell_type": "markdown",
   "id": "equal-hotel",
   "metadata": {
    "papermill": {
     "duration": 0.015421,
     "end_time": "2021-05-24T11:34:34.880671",
     "exception": false,
     "start_time": "2021-05-24T11:34:34.865250",
     "status": "completed"
    },
    "tags": []
   },
   "source": [
    "## Model"
   ]
  },
  {
   "cell_type": "code",
   "execution_count": 10,
   "id": "angry-python",
   "metadata": {
    "execution": {
     "iopub.execute_input": "2021-05-24T11:34:34.917799Z",
     "iopub.status.busy": "2021-05-24T11:34:34.917008Z",
     "iopub.status.idle": "2021-05-24T11:34:41.290402Z",
     "shell.execute_reply": "2021-05-24T11:34:41.290887Z",
     "shell.execute_reply.started": "2021-05-24T11:14:22.977479Z"
    },
    "papermill": {
     "duration": 6.394591,
     "end_time": "2021-05-24T11:34:41.291068",
     "exception": false,
     "start_time": "2021-05-24T11:34:34.896477",
     "status": "completed"
    },
    "tags": []
   },
   "outputs": [
    {
     "name": "stdout",
     "output_type": "stream",
     "text": [
      "[0.88471788 0.85005429 0.82779041]\n"
     ]
    }
   ],
   "source": [
    "from sklearn.ensemble import RandomForestRegressor\n",
    "from sklearn.model_selection import cross_val_score\n",
    "\n",
    "randomforest = RandomForestRegressor(random_state = 42)\n",
    "print(cross_val_score(randomforest, X_train, X_test, cv=3))"
   ]
  },
  {
   "cell_type": "code",
   "execution_count": 11,
   "id": "sharp-administrator",
   "metadata": {
    "execution": {
     "iopub.execute_input": "2021-05-24T11:34:41.331812Z",
     "iopub.status.busy": "2021-05-24T11:34:41.331157Z",
     "iopub.status.idle": "2021-05-24T11:34:44.299406Z",
     "shell.execute_reply": "2021-05-24T11:34:44.299853Z",
     "shell.execute_reply.started": "2021-05-24T11:21:55.713282Z"
    },
    "papermill": {
     "duration": 2.992897,
     "end_time": "2021-05-24T11:34:44.300040",
     "exception": false,
     "start_time": "2021-05-24T11:34:41.307143",
     "status": "completed"
    },
    "tags": []
   },
   "outputs": [
    {
     "data": {
      "text/plain": [
       "RandomForestRegressor(random_state=42)"
      ]
     },
     "execution_count": 11,
     "metadata": {},
     "output_type": "execute_result"
    }
   ],
   "source": [
    "randomforest.fit(X_train, X_test)"
   ]
  },
  {
   "cell_type": "code",
   "execution_count": 12,
   "id": "vertical-tomato",
   "metadata": {
    "execution": {
     "iopub.execute_input": "2021-05-24T11:34:44.344086Z",
     "iopub.status.busy": "2021-05-24T11:34:44.338018Z",
     "iopub.status.idle": "2021-05-24T11:34:44.390029Z",
     "shell.execute_reply": "2021-05-24T11:34:44.389469Z",
     "shell.execute_reply.started": "2021-05-24T11:22:43.795069Z"
    },
    "papermill": {
     "duration": 0.07374,
     "end_time": "2021-05-24T11:34:44.390165",
     "exception": false,
     "start_time": "2021-05-24T11:34:44.316425",
     "status": "completed"
    },
    "tags": []
   },
   "outputs": [],
   "source": [
    "y_predict = randomforest.predict(y_train)"
   ]
  },
  {
   "cell_type": "markdown",
   "id": "isolated-standing",
   "metadata": {
    "papermill": {
     "duration": 0.01684,
     "end_time": "2021-05-24T11:34:44.423396",
     "exception": false,
     "start_time": "2021-05-24T11:34:44.406556",
     "status": "completed"
    },
    "tags": []
   },
   "source": [
    "## SUBMIT"
   ]
  },
  {
   "cell_type": "code",
   "execution_count": 13,
   "id": "intermediate-cable",
   "metadata": {
    "execution": {
     "iopub.execute_input": "2021-05-24T11:34:44.462566Z",
     "iopub.status.busy": "2021-05-24T11:34:44.461898Z",
     "iopub.status.idle": "2021-05-24T11:34:44.473197Z",
     "shell.execute_reply": "2021-05-24T11:34:44.472604Z",
     "shell.execute_reply.started": "2021-05-24T11:26:35.1797Z"
    },
    "papermill": {
     "duration": 0.033478,
     "end_time": "2021-05-24T11:34:44.473347",
     "exception": false,
     "start_time": "2021-05-24T11:34:44.439869",
     "status": "completed"
    },
    "tags": []
   },
   "outputs": [],
   "source": [
    "submit = pd.DataFrame({'Id':df_test.Id, 'SalePrice':y_predict})\n",
    "submit.to_csv(\"HousingV1.csv\", index = False)"
   ]
  }
 ],
 "metadata": {
  "kernelspec": {
   "display_name": "Python 3",
   "language": "python",
   "name": "python3"
  },
  "language_info": {
   "codemirror_mode": {
    "name": "ipython",
    "version": 3
   },
   "file_extension": ".py",
   "mimetype": "text/x-python",
   "name": "python",
   "nbconvert_exporter": "python",
   "pygments_lexer": "ipython3",
   "version": "3.7.10"
  },
  "papermill": {
   "default_parameters": {},
   "duration": 20.516923,
   "end_time": "2021-05-24T11:34:45.299768",
   "environment_variables": {},
   "exception": null,
   "input_path": "__notebook__.ipynb",
   "output_path": "__notebook__.ipynb",
   "parameters": {},
   "start_time": "2021-05-24T11:34:24.782845",
   "version": "2.3.3"
  }
 },
 "nbformat": 4,
 "nbformat_minor": 5
}
